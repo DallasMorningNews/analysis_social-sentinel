{
 "cells": [
  {
   "cell_type": "code",
   "execution_count": 5,
   "id": "275cac25",
   "metadata": {},
   "outputs": [],
   "source": [
    "from documentcloud import DocumentCloud"
   ]
  },
  {
   "cell_type": "code",
   "execution_count": 6,
   "id": "add7b102",
   "metadata": {},
   "outputs": [],
   "source": [
    "def get_doc_list(client, project):\n",
    "    client = DocumentCloud(username, password)\n",
    "    proj = client.projects.get(title=project)\n",
    "    docs = proj.document_list\n",
    "    return docs"
   ]
  },
  {
   "cell_type": "code",
   "execution_count": 7,
   "id": "6833fec4",
   "metadata": {},
   "outputs": [],
   "source": [
    "username = #my doc cloud email\n",
    "password = #my doc cloud password\n",
    "\n",
    "client = DocumentCloud(username, password)\n",
    "\n",
    "project = 'Social Sentinel'"
   ]
  },
  {
   "cell_type": "code",
   "execution_count": 8,
   "id": "ec1802f0",
   "metadata": {},
   "outputs": [],
   "source": [
    "docs = get_doc_list(client, project)"
   ]
  },
  {
   "cell_type": "code",
   "execution_count": 9,
   "id": "a3e066e1",
   "metadata": {},
   "outputs": [
    {
     "data": {
      "text/plain": [
       "56259"
      ]
     },
     "execution_count": 9,
     "metadata": {},
     "output_type": "execute_result"
    }
   ],
   "source": [
    "counter = 0\n",
    "for i in docs:\n",
    "    counter += i.pages\n",
    "counter"
   ]
  },
  {
   "cell_type": "code",
   "execution_count": 11,
   "id": "14c794de",
   "metadata": {},
   "outputs": [
    {
     "data": {
      "text/plain": [
       "2976"
      ]
     },
     "execution_count": 11,
     "metadata": {},
     "output_type": "execute_result"
    }
   ],
   "source": [
    "len(docs)"
   ]
  },
  {
   "cell_type": "code",
   "execution_count": 12,
   "id": "fc24be33",
   "metadata": {},
   "outputs": [],
   "source": [
    "for doc in docs:\n",
    "    doc.access = 'public'\n",
    "    doc.put()"
   ]
  },
  {
   "cell_type": "code",
   "execution_count": 12,
   "id": "c062a825",
   "metadata": {},
   "outputs": [],
   "source": [
    "for doc in docs:\n",
    "    \n",
    "    d = {}\n",
    "    title = doc.title\n",
    "    d['filename'] = doc.title\n",
    "    parts = title.split('_')\n",
    "    try:\n",
    "        if parts[1] not in ['hed', 'other', 'schools', 'city', 'Open Records Request']:\n",
    "\n",
    "            try:\n",
    "                d['state'] = parts[1]\n",
    "            except:\n",
    "                pass\n",
    "\n",
    "            d['source'] = 'foia'\n",
    "\n",
    "            try:\n",
    "                d['school'] = parts[3]\n",
    "            except:\n",
    "                pass\n",
    "\n",
    "            try:\n",
    "                d['doc_title'] =  parts[4]\n",
    "            except:\n",
    "                pass\n",
    "\n",
    "        elif parts[1] == 'schools':\n",
    "            try:\n",
    "                d['state'] = parts[2]\n",
    "            except:\n",
    "                pass\n",
    "\n",
    "            d['source'] = 'internet'\n",
    "\n",
    "            try:\n",
    "                d['school'] = parts[3]\n",
    "            except:\n",
    "                pass\n",
    "\n",
    "            try:\n",
    "                d['doc_title'] = parts[4]\n",
    "            except:\n",
    "                pass\n",
    "        else:\n",
    "            d['source'] = 'internet'\n",
    "\n",
    "        doc.data = d\n",
    "        doc.put()\n",
    "    except:\n",
    "        pass"
   ]
  },
  {
   "cell_type": "code",
   "execution_count": null,
   "id": "dc884074",
   "metadata": {},
   "outputs": [],
   "source": [
    "schools = []\n",
    "for doc in docs:\n",
    "    \n",
    "    title = doc.title\n",
    "    d['filename'] = doc.title\n",
    "    parts = title.split('_')\n",
    "    try:\n",
    "        if parts[1] not in ['hed', 'other', 'schools', 'city', 'Open Records Request']:\n",
    "            try:\n",
    "                parts[3]\n",
    "                if parts[3] not in schools:\n",
    "                    schools.append(parts[3])\n",
    "                else:\n",
    "                    pass\n",
    "            except:\n",
    "                pass\n",
    "        else:\n",
    "            pass\n",
    "    except:\n",
    "        pass\n",
    "sorted(schools)"
   ]
  }
 ],
 "metadata": {
  "interpreter": {
   "hash": "b0fa6594d8f4cbf19f97940f81e996739fb7646882a419484c72d19e05852a7e"
  },
  "kernelspec": {
   "display_name": "Python 3.9.13 64-bit",
   "language": "python",
   "name": "python3"
  },
  "language_info": {
   "codemirror_mode": {
    "name": "ipython",
    "version": 3
   },
   "file_extension": ".py",
   "mimetype": "text/x-python",
   "name": "python",
   "nbconvert_exporter": "python",
   "pygments_lexer": "ipython3",
   "version": "3.10.6"
  }
 },
 "nbformat": 4,
 "nbformat_minor": 5
}
